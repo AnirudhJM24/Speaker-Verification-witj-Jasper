{
  "nbformat": 4,
  "nbformat_minor": 0,
  "metadata": {
    "colab": {
      "provenance": []
    },
    "kernelspec": {
      "name": "python3",
      "display_name": "Python 3"
    },
    "language_info": {
      "name": "python"
    }
  },
  "cells": [
    {
      "cell_type": "code",
      "source": [
        "from google.colab import drive\n",
        "drive.mount('/content/drive')"
      ],
      "metadata": {
        "colab": {
          "base_uri": "https://localhost:8080/"
        },
        "id": "c7DSwN9XfeOu",
        "outputId": "cc99afbd-f0c3-4e25-a505-bca3cd714b1f"
      },
      "execution_count": null,
      "outputs": [
        {
          "output_type": "stream",
          "name": "stdout",
          "text": [
            "Drive already mounted at /content/drive; to attempt to forcibly remount, call drive.mount(\"/content/drive\", force_remount=True).\n"
          ]
        }
      ]
    },
    {
      "cell_type": "code",
      "source": [
        "!wget https://us.openslr.org/resources/12/train-clean-360.tar.gz"
      ],
      "metadata": {
        "colab": {
          "base_uri": "https://localhost:8080/"
        },
        "id": "wjyay3iyfpUb",
        "outputId": "8efea1c9-5324-4089-dd0f-3979c80c51fc"
      },
      "execution_count": null,
      "outputs": [
        {
          "output_type": "stream",
          "name": "stdout",
          "text": [
            "--2023-06-06 18:42:28--  https://us.openslr.org/resources/12/train-clean-360.tar.gz\n",
            "Resolving us.openslr.org (us.openslr.org)... 46.101.158.64\n",
            "Connecting to us.openslr.org (us.openslr.org)|46.101.158.64|:443... connected.\n",
            "HTTP request sent, awaiting response... 200 OK\n",
            "Length: 23049477885 (21G) [application/x-gzip]\n",
            "Saving to: ‘train-clean-360.tar.gz’\n",
            "\n",
            "train-clean-360.tar 100%[===================>]  21.47G  26.8MB/s    in 14m 6s  \n",
            "\n",
            "2023-06-06 18:56:34 (26.0 MB/s) - ‘train-clean-360.tar.gz’ saved [23049477885/23049477885]\n",
            "\n"
          ]
        }
      ]
    },
    {
      "cell_type": "code",
      "source": [
        "!tar -xf  '/content/train-clean-360.tar.gz'"
      ],
      "metadata": {
        "id": "rgVp84vK2upY"
      },
      "execution_count": null,
      "outputs": []
    },
    {
      "cell_type": "code",
      "source": [
        "#Script to get max duration\n",
        "import os\n",
        "import pandas as pd\n",
        "import librosa\n",
        "import numpy as np\n",
        "from librosa.util import pad_center\n",
        "\n",
        "# Set the path to the LibriSpeech dataset\n",
        "librispeech_path = '/content/LibriSpeech/train-clean-360'\n",
        "\n",
        "# Create a list of all audio files in the dataset\n",
        "audio_files = []\n",
        "for root, dirs, files in os.walk(librispeech_path):\n",
        "    for file in files:\n",
        "        if file.endswith('.flac'):\n",
        "            audio_files.append(os.path.join(root, file))\n",
        "\n",
        "# Find the maximum duration of all audio samples\n",
        "max_duration = 0\n",
        "for audio_file in audio_files:\n",
        "    duration = librosa.get_duration(filename=audio_file)\n",
        "    if duration > max_duration:\n",
        "        max_duration = duration"
      ],
      "metadata": {
        "id": "tm2qkR6kViC2",
        "colab": {
          "base_uri": "https://localhost:8080/"
        },
        "outputId": "7d8ba22f-9d43-4f5a-f83d-60ef8231b83d"
      },
      "execution_count": null,
      "outputs": [
        {
          "output_type": "stream",
          "name": "stderr",
          "text": [
            "<ipython-input-10-f2647bd9dd3b>:21: FutureWarning: get_duration() keyword argument 'filename' has been renamed to 'path' in version 0.10.0.\n",
            "\tThis alias will be removed in version 1.0.\n",
            "  duration = librosa.get_duration(filename=audio_file)\n"
          ]
        }
      ]
    },
    {
      "cell_type": "code",
      "source": [
        "print(max_duration)"
      ],
      "metadata": {
        "colab": {
          "base_uri": "https://localhost:8080/"
        },
        "id": "gw3B0NsLJ6W0",
        "outputId": "4863f293-c936-4a65-f709-84cd888eec14"
      },
      "execution_count": null,
      "outputs": [
        {
          "output_type": "stream",
          "name": "stdout",
          "text": [
            "24.525\n"
          ]
        }
      ]
    },
    {
      "cell_type": "code",
      "source": [
        "#Script to create MFCCs\n",
        "import os\n",
        "import pandas as pd\n",
        "import librosa\n",
        "import numpy as np\n",
        "from librosa.util import pad_center\n",
        "\n",
        "# Set the path to the LibriSpeech dataset\n",
        "librispeech_path = '/content/LibriSpeech/train-clean-360'\n",
        "initial_path = '/content/Train_Spectrogram'\n",
        "\n",
        "# Create a list of all audio files in the dataset\n",
        "audio_files = []\n",
        "for root, dirs, files in os.walk(librispeech_path):\n",
        "    for file in files:\n",
        "        if file.endswith('.flac'):\n",
        "            audio_files.append(os.path.join(root, file))\n",
        "\n",
        "# Find the maximum duration of all audio samples\n",
        "#max_duration = 0\n",
        "#for audio_file in audio_files:\n",
        " #   duration = librosa.get_duration(filename=audio_file)\n",
        "  #  if duration > max_duration:\n",
        "   #     max_duration = duration\n",
        "\n",
        "# Create a pandas dataframe to store the MFCCs for each audio file\n",
        "#mfcc_df = pd.DataFrame(columns=['audio_file', 'mfccs'])\n",
        "max_pad_length = int(24.525*16000)\n",
        "# Loop over all audio files and extract MFCCs\n",
        "for audio_file in audio_files:\n",
        "    # Load the audio file\n",
        "    y, sr = librosa.load(audio_file, sr=16000)\n",
        "    y = y[:3*sr-1]\n",
        "    #if len(y)<3*sr:\n",
        "    #  y = librosa.util.fix_length(y, size = max_pad_length)\n",
        "\n",
        "    y = librosa.effects.preemphasis(y, coef=0.97)\n",
        "    file = audio_file.split('/')[-1]\n",
        "    # Pad the audio signal to the maximum duration\n",
        "    #y_padded = librosa.util.fix_length(y, size = max_pad_length)\n",
        "\n",
        "    # Extract the MFCCs\n",
        "    #mfcc_norm = librosa.feature.mfcc(y=y_padded,sr=sr,n_mfcc=40,n_fft=2048,hop_length=160)\n",
        "    #mfcc_delta = librosa.feature.delta(mfcc_norm)\n",
        "    #mfcc_delta2 = librosa.feature.delta(mfcc_norm, order=2)\n",
        "    #mfcc_final = np.concatenate((mfcc_norm,mfcc_delta,mfcc_delta2))\n",
        "    if len(y) > 0:\n",
        "    # Generate the mel spectrogram\n",
        "      mel_spectrogram = librosa.feature.melspectrogram(y=y,sr=sr,hop_length=160,window='hann',n_fft=512,n_mels=64,win_length=400)\n",
        "      log_mel = librosa.power_to_db(mel_spectrogram,ref=np.max)\n",
        "    else:\n",
        "    # Handle the empty signal case\n",
        "      print(\"Error: Input audio signal is empty.\",audio_file,len(y))\n",
        "\n",
        "\n",
        "\n",
        "    # Add the MFCCs to the dataframe\n",
        "    #mfcc_df = mfcc_df.append({'audio_file': file, 'mfccs': mfccs.T}, ignore_index=True)\n",
        "    path = path_string = os.path.join(initial_path, file + \".np\")\n",
        "    a = log_mel.T\n",
        "    np.save(path,a)"
      ],
      "metadata": {
        "id": "NJkacYvnVOHn"
      },
      "execution_count": null,
      "outputs": []
    },
    {
      "cell_type": "code",
      "source": [
        "#Script for train.100\n",
        "import os\n",
        "import h5py\n",
        "import numpy as np\n",
        "\n",
        "# Define directory path\n",
        "directory_path = \"/content/Train_Spectrogram\"\n",
        "\n",
        "# Create an HDF5 file\n",
        "hdf5_file = h5py.File(\"FinalMFCC360.hdf5\", \"w\")\n",
        "\n",
        "# Traverse through directory\n",
        "for root, dirs, files in os.walk(directory_path):\n",
        "    for file in files:\n",
        "        if file.endswith(\".npy\"):\n",
        "            # Load MFCC vector from file\n",
        "            mfcc = np.load(os.path.join(root, file))\n",
        "\n",
        "            # Transpose MFCC vector\n",
        "            #mfcc_t = np.transpose(mfcc)\n",
        "            samp = file.split('.')[0]\n",
        "\n",
        "            # Add MFCC vector to HDF5 file\n",
        "            hdf5_file.create_dataset(samp, data=mfcc)\n",
        "\n",
        "# Close the HDF5 file\n",
        "hdf5_file.close()\n"
      ],
      "metadata": {
        "id": "pKny73NoVMcF"
      },
      "execution_count": null,
      "outputs": []
    },
    {
      "cell_type": "code",
      "source": [
        "import shutil\n",
        "shutil.rmtree(\"/content/LibriSpeech\")"
      ],
      "metadata": {
        "id": "OuduWiIxAQJM"
      },
      "execution_count": null,
      "outputs": []
    },
    {
      "cell_type": "code",
      "source": [
        "shutil.rmtree(\"/content/Train_Numpy_Spectrogram\")"
      ],
      "metadata": {
        "id": "2GJyzF9vBDnR"
      },
      "execution_count": null,
      "outputs": []
    },
    {
      "cell_type": "code",
      "execution_count": null,
      "metadata": {
        "id": "fFDa-uviUz1Z"
      },
      "outputs": [],
      "source": [
        "# Read the HDF5 file\n",
        "import h5py\n",
        "import pandas as pd\n",
        "import numpy as np\n",
        "\n",
        "# Open HDF5 file\n",
        "with h5py.File('/content/FinalMFCC.hdf5', 'r') as hf:\n",
        "    # Get list of keys (file names)\n",
        "    keys = list(hf.keys())\n",
        "    # Create empty lists for file names and MFCCs\n",
        "    file_names = []\n",
        "    mfccs = []\n",
        "    # Iterate over keys and read data into lists\n",
        "    for key in keys:\n",
        "        file_names.append(key)\n",
        "        mfccs.append(np.array(hf[key]))\n",
        "    # Create DataFrame from lists\n",
        "    datas = pd.DataFrame({'filename': file_names, 'mfcc': mfccs})\n"
      ]
    },
    {
      "cell_type": "code",
      "source": [],
      "metadata": {
        "id": "rRxyWsSivKok"
      },
      "execution_count": null,
      "outputs": []
    },
    {
      "cell_type": "code",
      "source": [
        "a = np.load('/content/Train_Numpy_Spectrogram/103-1240-0001.flac.np.npy')\n",
        "a.shape"
      ],
      "metadata": {
        "colab": {
          "base_uri": "https://localhost:8080/"
        },
        "id": "z4B3T3BC5xu_",
        "outputId": "d392d996-2cbf-4c93-9fc1-80b6f19a4a1b"
      },
      "execution_count": null,
      "outputs": [
        {
          "output_type": "execute_result",
          "data": {
            "text/plain": [
              "(128, 1000)"
            ]
          },
          "metadata": {},
          "execution_count": 9
        }
      ]
    },
    {
      "cell_type": "code",
      "source": [
        "import matplotlib.pyplot as plt\n",
        "fig, ax = plt.subplots()\n",
        "\n",
        "S_dB = np.load('/content/Train_Numpy/1272-128104-0000.flac.np.npy')\n",
        "img = librosa.display(S_dB)\n",
        "fig.colorbar(img, ax=ax, format='%+2.0f dB')\n",
        "ax.set(title='Mel-frequency spectrogram')"
      ],
      "metadata": {
        "colab": {
          "base_uri": "https://localhost:8080/",
          "height": 653
        },
        "id": "MtiEYmK77LBG",
        "outputId": "0e51ce95-3ee4-46ca-9295-e4e2cdb9e5cf"
      },
      "execution_count": null,
      "outputs": [
        {
          "output_type": "error",
          "ename": "TypeError",
          "evalue": "ignored",
          "traceback": [
            "\u001b[0;31m---------------------------------------------------------------------------\u001b[0m",
            "\u001b[0;31mTypeError\u001b[0m                                 Traceback (most recent call last)",
            "\u001b[0;32m<ipython-input-17-b6a02b585c88>\u001b[0m in \u001b[0;36m<cell line: 5>\u001b[0;34m()\u001b[0m\n\u001b[1;32m      3\u001b[0m \u001b[0;34m\u001b[0m\u001b[0m\n\u001b[1;32m      4\u001b[0m \u001b[0mS_dB\u001b[0m \u001b[0;34m=\u001b[0m \u001b[0mnp\u001b[0m\u001b[0;34m.\u001b[0m\u001b[0mload\u001b[0m\u001b[0;34m(\u001b[0m\u001b[0;34m'/content/Train_Numpy/1272-128104-0000.flac.np.npy'\u001b[0m\u001b[0;34m)\u001b[0m\u001b[0;34m\u001b[0m\u001b[0;34m\u001b[0m\u001b[0m\n\u001b[0;32m----> 5\u001b[0;31m \u001b[0mimg\u001b[0m \u001b[0;34m=\u001b[0m \u001b[0mlibrosa\u001b[0m\u001b[0;34m.\u001b[0m\u001b[0mdisplay\u001b[0m\u001b[0;34m(\u001b[0m\u001b[0mS_dB\u001b[0m\u001b[0;34m)\u001b[0m\u001b[0;34m\u001b[0m\u001b[0;34m\u001b[0m\u001b[0m\n\u001b[0m\u001b[1;32m      6\u001b[0m \u001b[0mfig\u001b[0m\u001b[0;34m.\u001b[0m\u001b[0mcolorbar\u001b[0m\u001b[0;34m(\u001b[0m\u001b[0mimg\u001b[0m\u001b[0;34m,\u001b[0m \u001b[0max\u001b[0m\u001b[0;34m=\u001b[0m\u001b[0max\u001b[0m\u001b[0;34m,\u001b[0m \u001b[0mformat\u001b[0m\u001b[0;34m=\u001b[0m\u001b[0;34m'%+2.0f dB'\u001b[0m\u001b[0;34m)\u001b[0m\u001b[0;34m\u001b[0m\u001b[0;34m\u001b[0m\u001b[0m\n\u001b[1;32m      7\u001b[0m \u001b[0max\u001b[0m\u001b[0;34m.\u001b[0m\u001b[0mset\u001b[0m\u001b[0;34m(\u001b[0m\u001b[0mtitle\u001b[0m\u001b[0;34m=\u001b[0m\u001b[0;34m'Mel-frequency spectrogram'\u001b[0m\u001b[0;34m)\u001b[0m\u001b[0;34m\u001b[0m\u001b[0;34m\u001b[0m\u001b[0m\n",
            "\u001b[0;31mTypeError\u001b[0m: 'module' object is not callable"
          ]
        },
        {
          "output_type": "display_data",
          "data": {
            "text/plain": [
              "<Figure size 640x480 with 1 Axes>"
            ],
            "image/png": "[encoded data removed]"
          },
          "metadata": {}
        }
      ]
    },
    {
      "cell_type": "code",
      "source": [
        "plt.bar(40, S_dB)\n",
        "plt.xlabel('MFCC Coefficients')\n",
        "plt.ylabel('Value')\n",
        "plt.title('Mel-frequency cepstral coefficients')\n",
        "plt.ylim([0,1])\n",
        "plt.show()"
      ],
      "metadata": {
        "colab": {
          "base_uri": "https://localhost:8080/",
          "height": 472
        },
        "id": "IQ9pm04D7DFN",
        "outputId": "836f3b8d-258c-4a34-dc64-ffe6ee7c53eb"
      },
      "execution_count": null,
      "outputs": [
        {
          "output_type": "display_data",
          "data": {
            "text/plain": [
              "<Figure size 640x480 with 1 Axes>"
            ],
            "image/png": "[encoded data removed]"
          },
          "metadata": {}
        }
      ]
    },
    {
      "cell_type": "code",
      "source": [
        "from google.colab import drive\n",
        "drive.mount('/content/drive')"
      ],
      "metadata": {
        "colab": {
          "base_uri": "https://localhost:8080/"
        },
        "id": "WYRy8fmIdQP3",
        "outputId": "672a6714-6b77-489e-fb87-58223822813b"
      },
      "execution_count": null,
      "outputs": [
        {
          "output_type": "stream",
          "name": "stdout",
          "text": [
            "Mounted at /content/drive\n"
          ]
        }
      ]
    },
    {
      "cell_type": "code",
      "source": [
        "!cp /content/FinalMFCC360.hdf5 /content/drive/MyDrive/New_Train_100"
      ],
      "metadata": {
        "id": "eAcEV2OkdYQp"
      },
      "execution_count": null,
      "outputs": []
    },
    {
      "cell_type": "code",
      "source": [
        "!wget https://us.openslr.org/resources/12/train-clean-100.tar.gz"
      ],
      "metadata": {
        "colab": {
          "base_uri": "https://localhost:8080/"
        },
        "id": "su4S5akrg1l8",
        "outputId": "7db81c67-add8-4aae-a099-43bcfb185343"
      },
      "execution_count": null,
      "outputs": [
        {
          "output_type": "stream",
          "name": "stdout",
          "text": [
            "--2023-06-06 21:02:34--  https://us.openslr.org/resources/12/train-clean-100.tar.gz\n",
            "Resolving us.openslr.org (us.openslr.org)... 46.101.158.64\n",
            "Connecting to us.openslr.org (us.openslr.org)|46.101.158.64|:443... connected.\n",
            "HTTP request sent, awaiting response... 200 OK\n",
            "Length: 6387309499 (5.9G) [application/x-gzip]\n",
            "Saving to: ‘train-clean-100.tar.gz’\n",
            "\n",
            "train-clean-100.tar 100%[===================>]   5.95G  25.5MB/s    in 4m 1s   \n",
            "\n",
            "2023-06-06 21:06:36 (25.2 MB/s) - ‘train-clean-100.tar.gz’ saved [6387309499/6387309499]\n",
            "\n"
          ]
        }
      ]
    },
    {
      "cell_type": "code",
      "source": [
        "!cp /content/train-clean-100.tar.gz /content/drive/MyDrive/New_Train_100"
      ],
      "metadata": {
        "id": "y6pRYRbShOUE"
      },
      "execution_count": null,
      "outputs": []
    },
    {
      "cell_type": "code",
      "source": [
        "import h5py\n",
        "#Loading dataset\n",
        "with h5py.File('/content/drive/MyDrive/New_Train_100/Train_Spectrogram_SV3s.hdf5', 'r') as hf:\n",
        "    # Get list of keys (file names)\n",
        "    keys = list(hf.keys())\n",
        "    # Create empty lists for file names and MFCCs\n",
        "    filenames = []\n",
        "    mfccs = []\n",
        "    # Iterate over keys and read data into lists\n",
        "    for key in keys:\n",
        "        filenames.append(key)\n",
        "        mfccs.append(np.array(hf[key]))\n",
        "    # Create DataFrame from lists\n",
        "    data_transcripts = pd.DataFrame({'filename': filenames, 'mfccs': mfccs})"
      ],
      "metadata": {
        "id": "KScW2PpnlR5k"
      },
      "execution_count": null,
      "outputs": []
    },
    {
      "cell_type": "code",
      "source": [
        "data_transcripts['labels'] = data_transcripts['filename'].apply(lambda x: x.split('-')[0])"
      ],
      "metadata": {
        "id": "83_19Bmql7MY"
      },
      "execution_count": null,
      "outputs": []
    },
    {
      "cell_type": "code",
      "source": [
        "label_mapping = {label: idx for idx, label in enumerate(data_transcripts['labels'].unique())}\n",
        "\n",
        "# Map the labels using the dictionary\n",
        "data_transcripts['labels'] = data_transcripts['labels'].map(label_mapping)"
      ],
      "metadata": {
        "id": "vRt_WvZBmB5V"
      },
      "execution_count": null,
      "outputs": []
    },
    {
      "cell_type": "code",
      "source": [
        "import json\n",
        "with open(\"label_mapping.json\", \"w\") as fp:\n",
        "    json.dump(label_mapping , fp)"
      ],
      "metadata": {
        "id": "XXT9YI3umHXj"
      },
      "execution_count": null,
      "outputs": []
    },
    {
      "cell_type": "code",
      "source": [
        "!cp /content/label_mapping.json /content/drive/MyDrive/New_Train_100/model_sr"
      ],
      "metadata": {
        "id": "ot0zzPf_mngG"
      },
      "execution_count": null,
      "outputs": []
    },
    {
      "cell_type": "code",
      "source": [
        "shuffled_df = data_transcripts.sample(frac=1).reset_index(drop=True)"
      ],
      "metadata": {
        "id": "nesQxdRtm0Y7"
      },
      "execution_count": null,
      "outputs": []
    },
    {
      "cell_type": "code",
      "source": [
        "shuffled_df.head()"
      ],
      "metadata": {
        "colab": {
          "base_uri": "https://localhost:8080/",
          "height": 206
        },
        "id": "_v-FTktFnwC-",
        "outputId": "1cb8ed13-4524-4410-bb2a-17188f130a50"
      },
      "execution_count": null,
      "outputs": [
        {
          "output_type": "execute_result",
          "data": {
            "text/plain": [
              "           filename                                              mfccs  labels\n",
              "0  2196-170151-0000  [[-66.59022, -61.987404, -65.715935, -70.11608...      48\n",
              "1   5390-30102-0027  [[-54.191635, -59.795525, -52.04177, -51.50340...     150\n",
              "2   911-128684-0068  [[-80.0, -80.0, -80.0, -80.0, -80.0, -80.0, -8...     250\n",
              "3   7367-86737-0012  [[-80.0, -80.0, -80.0, -80.0, -80.0, -80.0, -8...     206\n",
              "4  1578-140045-0021  [[-53.0839, -60.09015, -65.04676, -65.67566, -...      22"
            ],
            "text/html": [
              "\n",
              "  <div id=\"df-60ec6637-4001-4d86-a171-b1054a73cad5\">\n",
              "    <div class=\"colab-df-container\">\n",
              "      <div>\n",
              "<style scoped>\n",
              "    .dataframe tbody tr th:only-of-type {\n",
              "        vertical-align: middle;\n",
              "    }\n",
              "\n",
              "    .dataframe tbody tr th {\n",
              "        vertical-align: top;\n",
              "    }\n",
              "\n",
              "    .dataframe thead th {\n",
              "        text-align: right;\n",
              "    }\n",
              "</style>\n",
              "<table border=\"1\" class=\"dataframe\">\n",
              "  <thead>\n",
              "    <tr style=\"text-align: right;\">\n",
              "      <th></th>\n",
              "      <th>filename</th>\n",
              "      <th>mfccs</th>\n",
              "      <th>labels</th>\n",
              "    </tr>\n",
              "  </thead>\n",
              "  <tbody>\n",
              "    <tr>\n",
              "      <th>0</th>\n",
              "      <td>2196-170151-0000</td>\n",
              "      <td>[[-66.59022, -61.987404, -65.715935, -70.11608...</td>\n",
              "      <td>48</td>\n",
              "    </tr>\n",
              "    <tr>\n",
              "      <th>1</th>\n",
              "      <td>5390-30102-0027</td>\n",
              "      <td>[[-54.191635, -59.795525, -52.04177, -51.50340...</td>\n",
              "      <td>150</td>\n",
              "    </tr>\n",
              "    <tr>\n",
              "      <th>2</th>\n",
              "      <td>911-128684-0068</td>\n",
              "      <td>[[-80.0, -80.0, -80.0, -80.0, -80.0, -80.0, -8...</td>\n",
              "      <td>250</td>\n",
              "    </tr>\n",
              "    <tr>\n",
              "      <th>3</th>\n",
              "      <td>7367-86737-0012</td>\n",
              "      <td>[[-80.0, -80.0, -80.0, -80.0, -80.0, -80.0, -8...</td>\n",
              "      <td>206</td>\n",
              "    </tr>\n",
              "    <tr>\n",
              "      <th>4</th>\n",
              "      <td>1578-140045-0021</td>\n",
              "      <td>[[-53.0839, -60.09015, -65.04676, -65.67566, -...</td>\n",
              "      <td>22</td>\n",
              "    </tr>\n",
              "  </tbody>\n",
              "</table>\n",
              "</div>\n",
              "      <button class=\"colab-df-convert\" onclick=\"convertToInteractive('df-60ec6637-4001-4d86-a171-b1054a73cad5')\"\n",
              "              title=\"Convert this dataframe to an interactive table.\"\n",
              "              style=\"display:none;\">\n",
              "        \n",
              "  <svg xmlns=\"http://www.w3.org/2000/svg\" height=\"24px\"viewBox=\"0 0 24 24\"\n",
              "       width=\"24px\">\n",
              "    <path d=\"M0 0h24v24H0V0z\" fill=\"none\"/>\n",
              "    <path d=\"M18.56 5.44l.94 2.06.94-2.06 2.06-.94-2.06-.94-.94-2.06-.94 2.06-2.06.94zm-11 1L8.5 8.5l.94-2.06 2.06-.94-2.06-.94L8.5 2.5l-.94 2.06-2.06.94zm10 10l.94 2.06.94-2.06 2.06-.94-2.06-.94-.94-2.06-.94 2.06-2.06.94z\"/><path d=\"M17.41 7.96l-1.37-1.37c-.4-.4-.92-.59-1.43-.59-.52 0-1.04.2-1.43.59L10.3 9.45l-7.72 7.72c-.78.78-.78 2.05 0 2.83L4 21.41c.39.39.9.59 1.41.59.51 0 1.02-.2 1.41-.59l7.78-7.78 2.81-2.81c.8-.78.8-2.07 0-2.86zM5.41 20L4 18.59l7.72-7.72 1.47 1.35L5.41 20z\"/>\n",
              "  </svg>\n",
              "      </button>\n",
              "      \n",
              "  <style>\n",
              "    .colab-df-container {\n",
              "      display:flex;\n",
              "      flex-wrap:wrap;\n",
              "      gap: 12px;\n",
              "    }\n",
              "\n",
              "    .colab-df-convert {\n",
              "      background-color: #E8F0FE;\n",
              "      border: none;\n",
              "      border-radius: 50%;\n",
              "      cursor: pointer;\n",
              "      display: none;\n",
              "      fill: #1967D2;\n",
              "      height: 32px;\n",
              "      padding: 0 0 0 0;\n",
              "      width: 32px;\n",
              "    }\n",
              "\n",
              "    .colab-df-convert:hover {\n",
              "      background-color: #E2EBFA;\n",
              "      box-shadow: 0px 1px 2px rgba(60, 64, 67, 0.3), 0px 1px 3px 1px rgba(60, 64, 67, 0.15);\n",
              "      fill: #174EA6;\n",
              "    }\n",
              "\n",
              "    [theme=dark] .colab-df-convert {\n",
              "      background-color: #3B4455;\n",
              "      fill: #D2E3FC;\n",
              "    }\n",
              "\n",
              "    [theme=dark] .colab-df-convert:hover {\n",
              "      background-color: #434B5C;\n",
              "      box-shadow: 0px 1px 3px 1px rgba(0, 0, 0, 0.15);\n",
              "      filter: drop-shadow(0px 1px 2px rgba(0, 0, 0, 0.3));\n",
              "      fill: #FFFFFF;\n",
              "    }\n",
              "  </style>\n",
              "\n",
              "      <script>\n",
              "        const buttonEl =\n",
              "          document.querySelector('#df-60ec6637-4001-4d86-a171-b1054a73cad5 button.colab-df-convert');\n",
              "        buttonEl.style.display =\n",
              "          google.colab.kernel.accessAllowed ? 'block' : 'none';\n",
              "\n",
              "        async function convertToInteractive(key) {\n",
              "          const element = document.querySelector('#df-60ec6637-4001-4d86-a171-b1054a73cad5');\n",
              "          const dataTable =\n",
              "            await google.colab.kernel.invokeFunction('convertToInteractive',\n",
              "                                                     [key], {});\n",
              "          if (!dataTable) return;\n",
              "\n",
              "          const docLinkHtml = 'Like what you see? Visit the ' +\n",
              "            '<a target=\"_blank\" href=https://colab.research.google.com/notebooks/data_table.ipynb>data table notebook</a>'\n",
              "            + ' to learn more about interactive tables.';\n",
              "          element.innerHTML = '';\n",
              "          dataTable['output_type'] = 'display_data';\n",
              "          await google.colab.output.renderOutput(dataTable, element);\n",
              "          const docLink = document.createElement('div');\n",
              "          docLink.innerHTML = docLinkHtml;\n",
              "          element.appendChild(docLink);\n",
              "        }\n",
              "      </script>\n",
              "    </div>\n",
              "  </div>\n",
              "  "
            ]
          },
          "metadata": {},
          "execution_count": 21
        }
      ]
    },
    {
      "cell_type": "code",
      "source": [
        "with h5py.File(\"shuffled_data.hdf5\", \"w\") as file:\n",
        "    # Create a group to store the spectrogram datasets\n",
        "    group = file.create_group(\"spectrograms\")\n",
        "\n",
        "    # Iterate over the DataFrame rows and store each spectrogram as a dataset\n",
        "    for index, row in shuffled_df.iterrows():\n",
        "        mfccs = row[\"mfccs\"]\n",
        "        filename = row[\"filename\"]\n",
        "\n",
        "        # Create a dataset for each spectrogram\n",
        "        group.create_dataset(filename, data=mfccs)"
      ],
      "metadata": {
        "id": "85YfZEl1nuj1"
      },
      "execution_count": null,
      "outputs": []
    },
    {
      "cell_type": "code",
      "source": [
        "!cp /content/shuffled_data.hdf5 /content/drive/MyDrive/New_Train_100/model_sr"
      ],
      "metadata": {
        "id": "MvcZaSixrb49"
      },
      "execution_count": null,
      "outputs": []
    },
    {
      "cell_type": "code",
      "source": [
        "import h5py\n",
        "import pandas as pd\n",
        "# Create empty lists to store the filename and spectrogram data\n",
        "filenames = []\n",
        "spectrograms = []\n",
        "\n",
        "# Read the HDF5 file and access the spectrogram datasets\n",
        "with h5py.File(\"/content/drive/MyDrive/New_Train_100/model_sr/shuffled_data.hdf5\", \"r\") as file:\n",
        "    # Access the \"spectrograms\" group\n",
        "    group = file[\"spectrograms\"]\n",
        "\n",
        "    # Get the list of dataset names within the group\n",
        "    dataset_names = list(group.keys())\n",
        "\n",
        "    # Iterate over the dataset names and retrieve the filename and spectrogram data\n",
        "    for dataset_name in dataset_names:\n",
        "        # Append the filename to the list\n",
        "        filenames.append(dataset_name)\n",
        "\n",
        "        # Access the dataset by its name\n",
        "        dataset = group[dataset_name]\n",
        "\n",
        "        # Retrieve the spectrogram data as a NumPy ndarray\n",
        "        spectrogram_data = dataset[:]\n",
        "\n",
        "        # Append the spectrogram data to the list\n",
        "        spectrograms.append(spectrogram_data)\n",
        "\n",
        "# Create a DataFrame from the retrieved data\n",
        "shuffled_df = pd.DataFrame({\"filename\": filenames, \"mfccs\": spectrograms})"
      ],
      "metadata": {
        "id": "7V-94uWIr3lM"
      },
      "execution_count": null,
      "outputs": []
    },
    {
      "cell_type": "code",
      "source": [
        "print(len(shuffled_df))"
      ],
      "metadata": {
        "colab": {
          "base_uri": "https://localhost:8080/"
        },
        "id": "cPysQ2Ultrye",
        "outputId": "6f9fea35-c92f-407c-f4d6-7f129f4b0b3d"
      },
      "execution_count": null,
      "outputs": [
        {
          "output_type": "stream",
          "name": "stdout",
          "text": [
            "28539\n"
          ]
        }
      ]
    },
    {
      "cell_type": "code",
      "source": [
        "shuffled_df.head()"
      ],
      "metadata": {
        "colab": {
          "base_uri": "https://localhost:8080/",
          "height": 206
        },
        "id": "T2DeUQbqsYdZ",
        "outputId": "9304cb40-5170-4aa3-8ee1-7c324ddc935c"
      },
      "execution_count": null,
      "outputs": [
        {
          "output_type": "execute_result",
          "data": {
            "text/plain": [
              "        filename                                              mfccs\n",
              "0  103-1240-0000  [[-44.801823, -43.445126, -43.20101, -43.24001...\n",
              "1  103-1240-0001  [[-45.564575, -43.17925, -40.812675, -42.47663...\n",
              "2  103-1240-0002  [[-50.997707, -50.385807, -50.01833, -49.90954...\n",
              "3  103-1240-0003  [[-51.141365, -45.95283, -47.726612, -46.55545...\n",
              "4  103-1240-0004  [[-44.96881, -43.193565, -42.236378, -43.17283..."
            ],
            "text/html": [
              "\n",
              "  <div id=\"df-366377b6-8336-40d4-be75-947aa5ec4dd0\">\n",
              "    <div class=\"colab-df-container\">\n",
              "      <div>\n",
              "<style scoped>\n",
              "    .dataframe tbody tr th:only-of-type {\n",
              "        vertical-align: middle;\n",
              "    }\n",
              "\n",
              "    .dataframe tbody tr th {\n",
              "        vertical-align: top;\n",
              "    }\n",
              "\n",
              "    .dataframe thead th {\n",
              "        text-align: right;\n",
              "    }\n",
              "</style>\n",
              "<table border=\"1\" class=\"dataframe\">\n",
              "  <thead>\n",
              "    <tr style=\"text-align: right;\">\n",
              "      <th></th>\n",
              "      <th>filename</th>\n",
              "      <th>mfccs</th>\n",
              "    </tr>\n",
              "  </thead>\n",
              "  <tbody>\n",
              "    <tr>\n",
              "      <th>0</th>\n",
              "      <td>103-1240-0000</td>\n",
              "      <td>[[-44.801823, -43.445126, -43.20101, -43.24001...</td>\n",
              "    </tr>\n",
              "    <tr>\n",
              "      <th>1</th>\n",
              "      <td>103-1240-0001</td>\n",
              "      <td>[[-45.564575, -43.17925, -40.812675, -42.47663...</td>\n",
              "    </tr>\n",
              "    <tr>\n",
              "      <th>2</th>\n",
              "      <td>103-1240-0002</td>\n",
              "      <td>[[-50.997707, -50.385807, -50.01833, -49.90954...</td>\n",
              "    </tr>\n",
              "    <tr>\n",
              "      <th>3</th>\n",
              "      <td>103-1240-0003</td>\n",
              "      <td>[[-51.141365, -45.95283, -47.726612, -46.55545...</td>\n",
              "    </tr>\n",
              "    <tr>\n",
              "      <th>4</th>\n",
              "      <td>103-1240-0004</td>\n",
              "      <td>[[-44.96881, -43.193565, -42.236378, -43.17283...</td>\n",
              "    </tr>\n",
              "  </tbody>\n",
              "</table>\n",
              "</div>\n",
              "      <button class=\"colab-df-convert\" onclick=\"convertToInteractive('df-366377b6-8336-40d4-be75-947aa5ec4dd0')\"\n",
              "              title=\"Convert this dataframe to an interactive table.\"\n",
              "              style=\"display:none;\">\n",
              "        \n",
              "  <svg xmlns=\"http://www.w3.org/2000/svg\" height=\"24px\"viewBox=\"0 0 24 24\"\n",
              "       width=\"24px\">\n",
              "    <path d=\"M0 0h24v24H0V0z\" fill=\"none\"/>\n",
              "    <path d=\"M18.56 5.44l.94 2.06.94-2.06 2.06-.94-2.06-.94-.94-2.06-.94 2.06-2.06.94zm-11 1L8.5 8.5l.94-2.06 2.06-.94-2.06-.94L8.5 2.5l-.94 2.06-2.06.94zm10 10l.94 2.06.94-2.06 2.06-.94-2.06-.94-.94-2.06-.94 2.06-2.06.94z\"/><path d=\"M17.41 7.96l-1.37-1.37c-.4-.4-.92-.59-1.43-.59-.52 0-1.04.2-1.43.59L10.3 9.45l-7.72 7.72c-.78.78-.78 2.05 0 2.83L4 21.41c.39.39.9.59 1.41.59.51 0 1.02-.2 1.41-.59l7.78-7.78 2.81-2.81c.8-.78.8-2.07 0-2.86zM5.41 20L4 18.59l7.72-7.72 1.47 1.35L5.41 20z\"/>\n",
              "  </svg>\n",
              "      </button>\n",
              "      \n",
              "  <style>\n",
              "    .colab-df-container {\n",
              "      display:flex;\n",
              "      flex-wrap:wrap;\n",
              "      gap: 12px;\n",
              "    }\n",
              "\n",
              "    .colab-df-convert {\n",
              "      background-color: #E8F0FE;\n",
              "      border: none;\n",
              "      border-radius: 50%;\n",
              "      cursor: pointer;\n",
              "      display: none;\n",
              "      fill: #1967D2;\n",
              "      height: 32px;\n",
              "      padding: 0 0 0 0;\n",
              "      width: 32px;\n",
              "    }\n",
              "\n",
              "    .colab-df-convert:hover {\n",
              "      background-color: #E2EBFA;\n",
              "      box-shadow: 0px 1px 2px rgba(60, 64, 67, 0.3), 0px 1px 3px 1px rgba(60, 64, 67, 0.15);\n",
              "      fill: #174EA6;\n",
              "    }\n",
              "\n",
              "    [theme=dark] .colab-df-convert {\n",
              "      background-color: #3B4455;\n",
              "      fill: #D2E3FC;\n",
              "    }\n",
              "\n",
              "    [theme=dark] .colab-df-convert:hover {\n",
              "      background-color: #434B5C;\n",
              "      box-shadow: 0px 1px 3px 1px rgba(0, 0, 0, 0.15);\n",
              "      filter: drop-shadow(0px 1px 2px rgba(0, 0, 0, 0.3));\n",
              "      fill: #FFFFFF;\n",
              "    }\n",
              "  </style>\n",
              "\n",
              "      <script>\n",
              "        const buttonEl =\n",
              "          document.querySelector('#df-366377b6-8336-40d4-be75-947aa5ec4dd0 button.colab-df-convert');\n",
              "        buttonEl.style.display =\n",
              "          google.colab.kernel.accessAllowed ? 'block' : 'none';\n",
              "\n",
              "        async function convertToInteractive(key) {\n",
              "          const element = document.querySelector('#df-366377b6-8336-40d4-be75-947aa5ec4dd0');\n",
              "          const dataTable =\n",
              "            await google.colab.kernel.invokeFunction('convertToInteractive',\n",
              "                                                     [key], {});\n",
              "          if (!dataTable) return;\n",
              "\n",
              "          const docLinkHtml = 'Like what you see? Visit the ' +\n",
              "            '<a target=\"_blank\" href=https://colab.research.google.com/notebooks/data_table.ipynb>data table notebook</a>'\n",
              "            + ' to learn more about interactive tables.';\n",
              "          element.innerHTML = '';\n",
              "          dataTable['output_type'] = 'display_data';\n",
              "          await google.colab.output.renderOutput(dataTable, element);\n",
              "          const docLink = document.createElement('div');\n",
              "          docLink.innerHTML = docLinkHtml;\n",
              "          element.appendChild(docLink);\n",
              "        }\n",
              "      </script>\n",
              "    </div>\n",
              "  </div>\n",
              "  "
            ]
          },
          "metadata": {},
          "execution_count": 7
        }
      ]
    },
    {
      "cell_type": "code",
      "source": [
        "print(type(shuffled_df['mfccs'][0]))"
      ],
      "metadata": {
        "colab": {
          "base_uri": "https://localhost:8080/"
        },
        "id": "aRRUzo5asble",
        "outputId": "c5c08164-7a7e-4e5d-ec4c-6e449c3a9476"
      },
      "execution_count": null,
      "outputs": [
        {
          "output_type": "stream",
          "name": "stdout",
          "text": [
            "<class 'numpy.ndarray'>\n"
          ]
        }
      ]
    },
    {
      "cell_type": "code",
      "source": [
        "train = shuffled_df[:len(shuffled_df)*9//10]\n",
        "test = shuffled_df[len(shuffled_df)*9//10:]"
      ],
      "metadata": {
        "id": "G73Ih3olsfs5"
      },
      "execution_count": null,
      "outputs": []
    },
    {
      "cell_type": "code",
      "source": [
        "with h5py.File(\"test_data.hdf5\", \"w\") as file:\n",
        "    # Create a group to store the spectrogram datasets\n",
        "    group = file.create_group(\"spectrograms\")\n",
        "\n",
        "    # Iterate over the DataFrame rows and store each spectrogram as a dataset\n",
        "    for index, row in test.iterrows():\n",
        "        mfccs = row[\"mfccs\"]\n",
        "        filename = row[\"filename\"]\n",
        "\n",
        "        # Create a dataset for each spectrogram\n",
        "        group.create_dataset(filename, data=mfccs)"
      ],
      "metadata": {
        "id": "DYzFRm3Bs4uq"
      },
      "execution_count": null,
      "outputs": []
    },
    {
      "cell_type": "code",
      "source": [
        "!cp /content/train_data.hdf5 /content/drive/MyDrive/New_Train_100/model_sr"
      ],
      "metadata": {
        "id": "NAfPAuNJt8pv"
      },
      "execution_count": null,
      "outputs": []
    },
    {
      "cell_type": "code",
      "source": [
        "!cp /content/test_data.hdf5 /content/drive/MyDrive/New_Train_100/model_sr"
      ],
      "metadata": {
        "id": "JuxutfEMuNYO"
      },
      "execution_count": null,
      "outputs": []
    }
  ]
}